{
 "cells": [
  {
   "cell_type": "code",
   "execution_count": 1,
   "id": "805570c3",
   "metadata": {
    "_cell_guid": "b1076dfc-b9ad-4769-8c92-a6c4dae69d19",
    "_uuid": "8f2839f25d086af736a60e9eeb907d3b93b6e0e5",
    "execution": {
     "iopub.execute_input": "2022-05-30T08:18:32.768526Z",
     "iopub.status.busy": "2022-05-30T08:18:32.767937Z",
     "iopub.status.idle": "2022-05-30T08:18:38.663454Z",
     "shell.execute_reply": "2022-05-30T08:18:38.662638Z"
    },
    "papermill": {
     "duration": 5.904179,
     "end_time": "2022-05-30T08:18:38.665575",
     "exception": false,
     "start_time": "2022-05-30T08:18:32.761396",
     "status": "completed"
    },
    "tags": []
   },
   "outputs": [],
   "source": [
    "from tensorflow.keras.datasets import mnist"
   ]
  },
  {
   "cell_type": "code",
   "execution_count": 2,
   "id": "c69ae8de",
   "metadata": {
    "execution": {
     "iopub.execute_input": "2022-05-30T08:18:38.677198Z",
     "iopub.status.busy": "2022-05-30T08:18:38.676314Z",
     "iopub.status.idle": "2022-05-30T08:18:39.141146Z",
     "shell.execute_reply": "2022-05-30T08:18:39.140352Z"
    },
    "papermill": {
     "duration": 0.472734,
     "end_time": "2022-05-30T08:18:39.143157",
     "exception": false,
     "start_time": "2022-05-30T08:18:38.670423",
     "status": "completed"
    },
    "tags": []
   },
   "outputs": [
    {
     "name": "stdout",
     "output_type": "stream",
     "text": [
      "Downloading data from https://storage.googleapis.com/tensorflow/tf-keras-datasets/mnist.npz\n",
      "11490434/11490434 [==============================] - 1s 0us/step\n"
     ]
    }
   ],
   "source": [
    "(train_images, train_labels), (test_images, test_labels) = mnist.load_data()"
   ]
  },
  {
   "cell_type": "code",
   "execution_count": 3,
   "id": "e0de65ee",
   "metadata": {
    "execution": {
     "iopub.execute_input": "2022-05-30T08:18:39.153804Z",
     "iopub.status.busy": "2022-05-30T08:18:39.153520Z",
     "iopub.status.idle": "2022-05-30T08:18:39.160083Z",
     "shell.execute_reply": "2022-05-30T08:18:39.159421Z"
    },
    "papermill": {
     "duration": 0.013976,
     "end_time": "2022-05-30T08:18:39.162069",
     "exception": false,
     "start_time": "2022-05-30T08:18:39.148093",
     "status": "completed"
    },
    "tags": []
   },
   "outputs": [
    {
     "data": {
      "text/plain": [
       "((60000, 28, 28), (10000, 28, 28))"
      ]
     },
     "execution_count": 3,
     "metadata": {},
     "output_type": "execute_result"
    }
   ],
   "source": [
    "train_images.shape, test_images.shape"
   ]
  },
  {
   "cell_type": "code",
   "execution_count": 4,
   "id": "15a8d249",
   "metadata": {
    "execution": {
     "iopub.execute_input": "2022-05-30T08:18:39.172365Z",
     "iopub.status.busy": "2022-05-30T08:18:39.171898Z",
     "iopub.status.idle": "2022-05-30T08:18:39.176907Z",
     "shell.execute_reply": "2022-05-30T08:18:39.176105Z"
    },
    "papermill": {
     "duration": 0.012501,
     "end_time": "2022-05-30T08:18:39.179134",
     "exception": false,
     "start_time": "2022-05-30T08:18:39.166633",
     "status": "completed"
    },
    "tags": []
   },
   "outputs": [
    {
     "data": {
      "text/plain": [
       "((60000,), (10000,))"
      ]
     },
     "execution_count": 4,
     "metadata": {},
     "output_type": "execute_result"
    }
   ],
   "source": [
    "train_labels.shape, test_labels.shape"
   ]
  },
  {
   "cell_type": "code",
   "execution_count": 5,
   "id": "7227d9c9",
   "metadata": {
    "execution": {
     "iopub.execute_input": "2022-05-30T08:18:39.189857Z",
     "iopub.status.busy": "2022-05-30T08:18:39.189115Z",
     "iopub.status.idle": "2022-05-30T08:18:39.192874Z",
     "shell.execute_reply": "2022-05-30T08:18:39.192206Z"
    },
    "papermill": {
     "duration": 0.010656,
     "end_time": "2022-05-30T08:18:39.194490",
     "exception": false,
     "start_time": "2022-05-30T08:18:39.183834",
     "status": "completed"
    },
    "tags": []
   },
   "outputs": [],
   "source": [
    "from tensorflow import keras\n",
    "from tensorflow.keras import layers"
   ]
  },
  {
   "cell_type": "code",
   "execution_count": 6,
   "id": "4ee4247a",
   "metadata": {
    "execution": {
     "iopub.execute_input": "2022-05-30T08:18:39.204711Z",
     "iopub.status.busy": "2022-05-30T08:18:39.204466Z",
     "iopub.status.idle": "2022-05-30T08:18:42.092597Z",
     "shell.execute_reply": "2022-05-30T08:18:42.091807Z"
    },
    "papermill": {
     "duration": 2.895441,
     "end_time": "2022-05-30T08:18:42.094591",
     "exception": false,
     "start_time": "2022-05-30T08:18:39.199150",
     "status": "completed"
    },
    "tags": []
   },
   "outputs": [],
   "source": [
    "model = keras.Sequential(\n",
    "    [\n",
    "        layers.Dense(512, activation=\"relu\"),\n",
    "        layers.Dense(10, activation=\"softmax\"),\n",
    "    ]\n",
    ")"
   ]
  },
  {
   "cell_type": "code",
   "execution_count": 7,
   "id": "4d0f6385",
   "metadata": {
    "execution": {
     "iopub.execute_input": "2022-05-30T08:18:42.106279Z",
     "iopub.status.busy": "2022-05-30T08:18:42.105679Z",
     "iopub.status.idle": "2022-05-30T08:18:42.123600Z",
     "shell.execute_reply": "2022-05-30T08:18:42.122950Z"
    },
    "papermill": {
     "duration": 0.025328,
     "end_time": "2022-05-30T08:18:42.125123",
     "exception": false,
     "start_time": "2022-05-30T08:18:42.099795",
     "status": "completed"
    },
    "tags": []
   },
   "outputs": [],
   "source": [
    "model.compile(\n",
    "    optimizer=\"rmsprop\", \n",
    "    loss=\"sparse_categorical_crossentropy\",\n",
    "    metrics=[\"accuracy\"]\n",
    ")"
   ]
  },
  {
   "cell_type": "code",
   "execution_count": 8,
   "id": "217595f0",
   "metadata": {
    "execution": {
     "iopub.execute_input": "2022-05-30T08:18:42.136027Z",
     "iopub.status.busy": "2022-05-30T08:18:42.135505Z",
     "iopub.status.idle": "2022-05-30T08:18:42.139195Z",
     "shell.execute_reply": "2022-05-30T08:18:42.138395Z"
    },
    "papermill": {
     "duration": 0.010966,
     "end_time": "2022-05-30T08:18:42.140970",
     "exception": false,
     "start_time": "2022-05-30T08:18:42.130004",
     "status": "completed"
    },
    "tags": []
   },
   "outputs": [],
   "source": [
    "# reshape from 28,28 to 784 (28*28)\n",
    "train_images = train_images.reshape((-1, 28*28))"
   ]
  },
  {
   "cell_type": "code",
   "execution_count": 9,
   "id": "b4c6b9e5",
   "metadata": {
    "execution": {
     "iopub.execute_input": "2022-05-30T08:18:42.151462Z",
     "iopub.status.busy": "2022-05-30T08:18:42.151218Z",
     "iopub.status.idle": "2022-05-30T08:18:42.156072Z",
     "shell.execute_reply": "2022-05-30T08:18:42.155289Z"
    },
    "papermill": {
     "duration": 0.01273,
     "end_time": "2022-05-30T08:18:42.158506",
     "exception": false,
     "start_time": "2022-05-30T08:18:42.145776",
     "status": "completed"
    },
    "tags": []
   },
   "outputs": [
    {
     "data": {
      "text/plain": [
       "(60000, 784)"
      ]
     },
     "execution_count": 9,
     "metadata": {},
     "output_type": "execute_result"
    }
   ],
   "source": [
    "train_images.shape"
   ]
  },
  {
   "cell_type": "code",
   "execution_count": 10,
   "id": "ac6851ce",
   "metadata": {
    "execution": {
     "iopub.execute_input": "2022-05-30T08:18:42.169123Z",
     "iopub.status.busy": "2022-05-30T08:18:42.168875Z",
     "iopub.status.idle": "2022-05-30T08:18:42.172503Z",
     "shell.execute_reply": "2022-05-30T08:18:42.171693Z"
    },
    "papermill": {
     "duration": 0.010988,
     "end_time": "2022-05-30T08:18:42.174374",
     "exception": false,
     "start_time": "2022-05-30T08:18:42.163386",
     "status": "completed"
    },
    "tags": []
   },
   "outputs": [],
   "source": [
    "# reshape from 28,28 to 784 (28*28)\n",
    "test_images = test_images.reshape((-1, 28*28))"
   ]
  },
  {
   "cell_type": "code",
   "execution_count": 11,
   "id": "e859a3bd",
   "metadata": {
    "execution": {
     "iopub.execute_input": "2022-05-30T08:18:42.185200Z",
     "iopub.status.busy": "2022-05-30T08:18:42.184940Z",
     "iopub.status.idle": "2022-05-30T08:18:42.261721Z",
     "shell.execute_reply": "2022-05-30T08:18:42.260879Z"
    },
    "papermill": {
     "duration": 0.084836,
     "end_time": "2022-05-30T08:18:42.264159",
     "exception": false,
     "start_time": "2022-05-30T08:18:42.179323",
     "status": "completed"
    },
    "tags": []
   },
   "outputs": [],
   "source": [
    "train_images = train_images.astype(\"float32\") / 255\n",
    "test_images = test_images.astype(\"float32\") / 255"
   ]
  },
  {
   "cell_type": "code",
   "execution_count": 12,
   "id": "658a1e6e",
   "metadata": {
    "execution": {
     "iopub.execute_input": "2022-05-30T08:18:42.276046Z",
     "iopub.status.busy": "2022-05-30T08:18:42.275745Z",
     "iopub.status.idle": "2022-05-30T08:18:49.399652Z",
     "shell.execute_reply": "2022-05-30T08:18:49.398845Z"
    },
    "papermill": {
     "duration": 7.131749,
     "end_time": "2022-05-30T08:18:49.401455",
     "exception": false,
     "start_time": "2022-05-30T08:18:42.269706",
     "status": "completed"
    },
    "tags": []
   },
   "outputs": [
    {
     "name": "stdout",
     "output_type": "stream",
     "text": [
      "Epoch 1/5\n",
      "469/469 [==============================] - 10s 18ms/step - loss: 0.2619 - accuracy: 0.9241\n",
      "Epoch 2/5\n",
      "469/469 [==============================] - 8s 16ms/step - loss: 0.1062 - accuracy: 0.9692\n",
      "Epoch 3/5\n",
      "469/469 [==============================] - 8s 16ms/step - loss: 0.0712 - accuracy: 0.9788\n",
      "Epoch 4/5\n",
      "469/469 [==============================] - 8s 17ms/step - loss: 0.0516 - accuracy: 0.9847\n",
      "Epoch 5/5\n",
      "469/469 [==============================] - 8s 17ms/step - loss: 0.0378 - accuracy: 0.9890\n"
     ]
    },
    {
     "data": {
      "text/plain": [
       "<keras.callbacks.History at 0x2be9b8a35e0>"
      ]
     },
     "execution_count": 12,
     "metadata": {},
     "output_type": "execute_result"
    }
   ],
   "source": [
    "model.fit(train_images, train_labels, epochs=5, batch_size=128)"
   ]
  },
  {
   "cell_type": "code",
   "execution_count": 13,
   "id": "0446f6d3",
   "metadata": {
    "execution": {
     "iopub.execute_input": "2022-05-30T08:18:49.425489Z",
     "iopub.status.busy": "2022-05-30T08:18:49.425203Z",
     "iopub.status.idle": "2022-05-30T08:18:49.430569Z",
     "shell.execute_reply": "2022-05-30T08:18:49.429813Z"
    },
    "papermill": {
     "duration": 0.019448,
     "end_time": "2022-05-30T08:18:49.432636",
     "exception": false,
     "start_time": "2022-05-30T08:18:49.413188",
     "status": "completed"
    },
    "tags": []
   },
   "outputs": [
    {
     "name": "stdout",
     "output_type": "stream",
     "text": [
      "Model: \"sequential\"\n",
      "_________________________________________________________________\n",
      " Layer (type)                Output Shape              Param #   \n",
      "=================================================================\n",
      " dense (Dense)               (None, 512)               401920    \n",
      "                                                                 \n",
      " dense_1 (Dense)             (None, 10)                5130      \n",
      "                                                                 \n",
      "=================================================================\n",
      "Total params: 407,050\n",
      "Trainable params: 407,050\n",
      "Non-trainable params: 0\n",
      "_________________________________________________________________\n"
     ]
    }
   ],
   "source": [
    "model.summary()"
   ]
  },
  {
   "cell_type": "code",
   "execution_count": 14,
   "id": "54cb8752",
   "metadata": {
    "execution": {
     "iopub.execute_input": "2022-05-30T08:18:49.457327Z",
     "iopub.status.busy": "2022-05-30T08:18:49.456724Z",
     "iopub.status.idle": "2022-05-30T08:18:49.833559Z",
     "shell.execute_reply": "2022-05-30T08:18:49.832808Z"
    },
    "papermill": {
     "duration": 0.390752,
     "end_time": "2022-05-30T08:18:49.835536",
     "exception": false,
     "start_time": "2022-05-30T08:18:49.444784",
     "status": "completed"
    },
    "tags": []
   },
   "outputs": [
    {
     "name": "stdout",
     "output_type": "stream",
     "text": [
      "313/313 [==============================] - 2s 5ms/step\n"
     ]
    }
   ],
   "source": [
    "predictions = model.predict(test_images)"
   ]
  },
  {
   "cell_type": "code",
   "execution_count": 15,
   "id": "50c92f82",
   "metadata": {
    "execution": {
     "iopub.execute_input": "2022-05-30T08:18:49.860258Z",
     "iopub.status.busy": "2022-05-30T08:18:49.859507Z",
     "iopub.status.idle": "2022-05-30T08:18:49.865422Z",
     "shell.execute_reply": "2022-05-30T08:18:49.864594Z"
    },
    "papermill": {
     "duration": 0.020246,
     "end_time": "2022-05-30T08:18:49.867369",
     "exception": false,
     "start_time": "2022-05-30T08:18:49.847123",
     "status": "completed"
    },
    "tags": []
   },
   "outputs": [
    {
     "data": {
      "text/plain": [
       "array([1.2591419e-08, 4.1633175e-10, 4.1033636e-06, 1.0835334e-05,\n",
       "       2.2458480e-13, 2.0581380e-08, 2.9906284e-12, 9.9998486e-01,\n",
       "       2.1087020e-08, 6.7295957e-08], dtype=float32)"
      ]
     },
     "execution_count": 15,
     "metadata": {},
     "output_type": "execute_result"
    }
   ],
   "source": [
    "predictions[0,:]"
   ]
  },
  {
   "cell_type": "code",
   "execution_count": 16,
   "id": "e40794e1",
   "metadata": {
    "execution": {
     "iopub.execute_input": "2022-05-30T08:18:49.890974Z",
     "iopub.status.busy": "2022-05-30T08:18:49.890719Z",
     "iopub.status.idle": "2022-05-30T08:18:49.895312Z",
     "shell.execute_reply": "2022-05-30T08:18:49.894629Z"
    },
    "papermill": {
     "duration": 0.018286,
     "end_time": "2022-05-30T08:18:49.897021",
     "exception": false,
     "start_time": "2022-05-30T08:18:49.878735",
     "status": "completed"
    },
    "tags": []
   },
   "outputs": [
    {
     "data": {
      "text/plain": [
       "7"
      ]
     },
     "execution_count": 16,
     "metadata": {},
     "output_type": "execute_result"
    }
   ],
   "source": [
    "test_labels[0]"
   ]
  },
  {
   "cell_type": "code",
   "execution_count": 17,
   "id": "090de76a",
   "metadata": {
    "execution": {
     "iopub.execute_input": "2022-05-30T08:18:49.921518Z",
     "iopub.status.busy": "2022-05-30T08:18:49.920833Z",
     "iopub.status.idle": "2022-05-30T08:18:50.711307Z",
     "shell.execute_reply": "2022-05-30T08:18:50.710557Z"
    },
    "papermill": {
     "duration": 0.804564,
     "end_time": "2022-05-30T08:18:50.713082",
     "exception": false,
     "start_time": "2022-05-30T08:18:49.908518",
     "status": "completed"
    },
    "tags": []
   },
   "outputs": [
    {
     "name": "stdout",
     "output_type": "stream",
     "text": [
      "313/313 [==============================] - 2s 6ms/step - loss: 0.0678 - accuracy: 0.9798\n"
     ]
    }
   ],
   "source": [
    "test_loss, test_accuracy = model.evaluate(test_images, test_labels)"
   ]
  },
  {
   "cell_type": "code",
   "execution_count": null,
   "id": "77a392b1",
   "metadata": {
    "papermill": {
     "duration": 0.011927,
     "end_time": "2022-05-30T08:18:50.737443",
     "exception": false,
     "start_time": "2022-05-30T08:18:50.725516",
     "status": "completed"
    },
    "tags": []
   },
   "outputs": [],
   "source": []
  }
 ],
 "metadata": {
  "kernelspec": {
   "display_name": "Python 3.10.6 64-bit",
   "language": "python",
   "name": "python3"
  },
  "language_info": {
   "codemirror_mode": {
    "name": "ipython",
    "version": 3
   },
   "file_extension": ".py",
   "mimetype": "text/x-python",
   "name": "python",
   "nbconvert_exporter": "python",
   "pygments_lexer": "ipython3",
   "version": "3.10.6"
  },
  "papermill": {
   "default_parameters": {},
   "duration": 29.374977,
   "end_time": "2022-05-30T08:18:53.609711",
   "environment_variables": {},
   "exception": null,
   "input_path": "__notebook__.ipynb",
   "output_path": "__notebook__.ipynb",
   "parameters": {},
   "start_time": "2022-05-30T08:18:24.234734",
   "version": "2.3.4"
  },
  "vscode": {
   "interpreter": {
    "hash": "369f2c481f4da34e4445cda3fffd2e751bd1c4d706f27375911949ba6bb62e1c"
   }
  }
 },
 "nbformat": 4,
 "nbformat_minor": 5
}
